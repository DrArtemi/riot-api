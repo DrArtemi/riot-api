{
 "cells": [
  {
   "cell_type": "code",
   "execution_count": null,
   "metadata": {},
   "outputs": [],
   "source": [
    "import mwclient"
   ]
  },
  {
   "cell_type": "code",
   "execution_count": null,
   "metadata": {},
   "outputs": [],
   "source": [
    "site = mwclient.Site('lol.fandom.com', path='/')"
   ]
  },
  {
   "cell_type": "code",
   "execution_count": null,
   "metadata": {},
   "outputs": [],
   "source": [
    "response = site.api('cargoquery',\n",
    "\tlimit = 'max',\n",
    "\ttables = \"Leagues=L\",\n",
    "\tfields = \"L.League, L.League_Short, L.Region, L.Region, L.Level, L.IsOfficial\",\n",
    "\twhere = \"L.Level = 'ShowMatch', L.isOfficial = 'Yes'\"\n",
    ")\n",
    "response"
   ]
  },
  {
   "cell_type": "code",
   "execution_count": null,
   "metadata": {},
   "outputs": [],
   "source": [
    "response = site.api('cargoquery',\n",
    "\tlimit=\"max\",\n",
    "\ttables=\"PlayerRedirects, PlayerLeagueHistory=PLH\",\n",
    "    join_on=\"PlayerRedirects.OverviewPage = PLH.Player\",\n",
    "\tfields=\"PLH.Player, PLH.Teams, PlayerRedirects.AllName\",\n",
    "\twhere=\"PLH.Player = 'Bwipo'\"\n",
    ")\n",
    "response"
   ]
  }
 ],
 "metadata": {
  "interpreter": {
   "hash": "d095a8c3651cbb69cad7ad59ed783cc75766539c197e707b818371eb3de6656a"
  },
  "kernelspec": {
   "display_name": "Python 3.10.0 64-bit ('riot': conda)",
   "name": "python3"
  },
  "language_info": {
   "codemirror_mode": {
    "name": "ipython",
    "version": 3
   },
   "file_extension": ".py",
   "mimetype": "text/x-python",
   "name": "python",
   "nbconvert_exporter": "python",
   "pygments_lexer": "ipython3",
   "version": "3.10.0"
  },
  "orig_nbformat": 4
 },
 "nbformat": 4,
 "nbformat_minor": 2
}
